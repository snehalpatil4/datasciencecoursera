{
  "nbformat": 4,
  "nbformat_minor": 0,
  "metadata": {
    "colab": {
      "name": "BECOB226_ICS_assignment2",
      "provenance": [],
      "collapsed_sections": [],
      "authorship_tag": "ABX9TyOwZsw/O/e06BirRwiECmy+",
      "include_colab_link": true
    },
    "kernelspec": {
      "name": "python3",
      "display_name": "Python 3"
    }
  },
  "cells": [
    {
      "cell_type": "markdown",
      "metadata": {
        "id": "view-in-github",
        "colab_type": "text"
      },
      "source": [
        "<a href=\"https://colab.research.google.com/github/snehalpatil4/datasciencecoursera/blob/master/BECOB226_ICS_assignment2.ipynb\" target=\"_parent\"><img src=\"https://colab.research.google.com/assets/colab-badge.svg\" alt=\"Open In Colab\"/></a>"
      ]
    },
    {
      "cell_type": "markdown",
      "metadata": {
        "id": "aej5zmvsVdhW"
      },
      "source": [
        "LP-III\r\n",
        "\r\n",
        "Information and Cyber Security Lab\r\n",
        "\r\n",
        "Assignment-2 \r\n",
        "\r\n",
        "Name:- Snehal Patil\r\n",
        "\r\n",
        "Roll no.: BECOB226\r\n",
        "\r\n",
        "---\r\n",
        "\r\n",
        "---\r\n",
        "Problem Statement:-\r\n",
        "To Implement SDES Algorithm."
      ]
    },
    {
      "cell_type": "code",
      "metadata": {
        "id": "ckuMF6KfTK33"
      },
      "source": [
        "KEY = \"1100011110\"\r\n",
        "Plaintext = \"00101000\""
      ],
      "execution_count": 18,
      "outputs": []
    },
    {
      "cell_type": "markdown",
      "metadata": {
        "id": "tiRTacOVXKKx"
      },
      "source": [
        "**Static tables Initialization**"
      ]
    },
    {
      "cell_type": "code",
      "metadata": {
        "id": "xvvF0bZPWN5Q"
      },
      "source": [
        "P10 = (3, 5, 2, 7, 4, 10, 1, 9, 8, 6)\r\n",
        "P8 = (6, 3, 7, 4, 8, 5, 10, 9)\r\n",
        "P4 = (2, 4, 3, 1)\r\n",
        "\r\n",
        "IP = (2, 6, 3, 1, 4, 8, 5, 7)\r\n",
        "IP1 = (4, 1, 3, 5, 7, 2, 8, 6)\r\n",
        "\r\n",
        "E = (4, 1, 2, 3, 2, 3, 4, 1)\r\n",
        "\r\n",
        "S0 = [\r\n",
        "        [1, 0, 3, 2],\r\n",
        "        [3, 2, 1, 0],\r\n",
        "        [0, 2, 1, 3],\r\n",
        "        [3, 1, 3, 2]\r\n",
        "     ]\r\n",
        "\r\n",
        "S1 = [\r\n",
        "        [0, 1, 2, 3],\r\n",
        "        [2, 0, 1, 3],\r\n",
        "        [3, 0, 1, 0],\r\n",
        "        [2, 1, 0, 3]\r\n",
        "     ]"
      ],
      "execution_count": 7,
      "outputs": []
    },
    {
      "cell_type": "markdown",
      "metadata": {
        "id": "pVWrF0FgXL3O"
      },
      "source": [
        ""
      ]
    },
    {
      "cell_type": "code",
      "metadata": {
        "id": "QtD0O4I0WblK"
      },
      "source": [
        "def permutate(original, fixed_key):\r\n",
        "    new = ''\r\n",
        "    for i in fixed_key:\r\n",
        "        new += original[i - 1]\r\n",
        "    return new\r\n",
        "\r\n",
        "\r\n",
        "def left_half(bits):\r\n",
        "    return bits[:int(len(bits)/2)]\r\n",
        "\r\n",
        "\r\n",
        "def right_half(bits):\r\n",
        "    return bits[int(len(bits)/2):]\r\n",
        "\r\n",
        "\r\n",
        "def shift(bits):\r\n",
        "    rotated_left_half = left_half(bits)[1:] + left_half(bits)[0]\r\n",
        "    rotated_right_half = right_half(bits)[1:] + right_half(bits)[0]\r\n",
        "    return rotated_left_half + rotated_right_half\r\n",
        "\r\n",
        "\r\n",
        "def key1():\r\n",
        "    return permutate(shift(permutate(KEY, P10)), P8)\r\n",
        "\r\n",
        "\r\n",
        "def key2():\r\n",
        "    return permutate(shift(shift(shift(permutate(KEY, P10)))), P8)\r\n",
        "\r\n",
        "\r\n",
        "def xor(bits, key):\r\n",
        "    new = ''\r\n",
        "    for bit, key_bit in zip(bits, key):\r\n",
        "        new += str(((int(bit) + int(key_bit)) % 2))\r\n",
        "    return new\r\n",
        "\r\n",
        "\r\n",
        "def lookup_in_sbox(bits, sbox):\r\n",
        "    row = int(bits[0] + bits[3], 2)\r\n",
        "    col = int(bits[1] + bits[2], 2)\r\n",
        "    return '{0:02b}'.format(sbox[row][col])\r\n",
        "\r\n",
        "\r\n",
        "def f_k(bits, key):\r\n",
        "    L = left_half(bits)\r\n",
        "    R = right_half(bits)\r\n",
        "    bits = permutate(R, E)\r\n",
        "    bits = xor(bits, key)\r\n",
        "    bits = lookup_in_sbox(left_half(bits), S0) + lookup_in_sbox(right_half(bits), S1)\r\n",
        "    bits = permutate(bits, P4)\r\n",
        "    return xor(bits, L)\r\n",
        "\r\n",
        "def encrypt(plain_text):\r\n",
        "    bits = permutate(plain_text, IP)\r\n",
        "    temp = f_k(bits, key1())\r\n",
        "    bits = right_half(bits) + temp\r\n",
        "    bits = f_k(bits, key2())\r\n",
        "    print(\"Encrypted Code Using SDES Algo is:\")\r\n",
        "    print(permutate(bits + temp, IP1))\r\n",
        "    return permutate(bits + temp, IP1)\r\n",
        "\r\n",
        "def decrypt(cipher_text):\r\n",
        "    bits = permutate(cipher_text,IP)\r\n",
        "    temp = f_k(bits, key2())\r\n",
        "    bits = right_half(bits) + temp\r\n",
        "    bits = f_k(bits, key1())\r\n",
        "    print(\"Decrypted Cipher text Using SDES Algo is:\")\r\n",
        "    print(permutate(bits + temp, IP1))"
      ],
      "execution_count": 20,
      "outputs": []
    },
    {
      "cell_type": "markdown",
      "metadata": {
        "id": "QgczLIhHXMqE"
      },
      "source": [
        ""
      ]
    },
    {
      "cell_type": "code",
      "metadata": {
        "colab": {
          "base_uri": "https://localhost:8080/",
          "height": 0
        },
        "id": "k3num0SAdwQV",
        "outputId": "845579ee-5077-4802-d6c7-5093341941ce"
      },
      "source": [
        "Encrypted_code=encrypt(Plaintext)\r\n",
        "decrypt(Encrypted_code)"
      ],
      "execution_count": 21,
      "outputs": [
        {
          "output_type": "stream",
          "text": [
            "Encrypted Code Using SDES Algo is:\n",
            "10001010\n",
            "Decrypted Cipher text Using SDES Algo is:\n",
            "00101000\n"
          ],
          "name": "stdout"
        }
      ]
    }
  ]
}